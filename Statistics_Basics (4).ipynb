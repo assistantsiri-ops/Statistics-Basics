{
  "nbformat": 4,
  "nbformat_minor": 0,
  "metadata": {
    "colab": {
      "provenance": []
    },
    "kernelspec": {
      "name": "python3",
      "display_name": "Python 3"
    },
    "language_info": {
      "name": "python"
    }
  },
  "cells": [
    {
      "cell_type": "markdown",
      "source": [
        "#Statistics Basics(Theory)"
      ],
      "metadata": {
        "id": "x22AuuuzdTjn"
      }
    },
    {
      "cell_type": "markdown",
      "source": [
        "1.What is statistics, and why is it important?\n",
        "    - Statistics is a branch of mathematics that deals with the collection, analysis, interpretation, and presentation of data. It's important because it helps us make informed decisions, understand patterns and trends, and draw conclusions from data."
      ],
      "metadata": {
        "id": "1kNrBjXSdZ-m"
      }
    },
    {
      "cell_type": "code",
      "source": [
        "#What is statistics, and why is it important?\n",
        "'''\n",
        "Statistics is a branch of mathematics that deals with the collection, analysis, interpretation, and presentation of data. It's important because it helps us make informed decisions, understand patterns and trends, and draw conclusions from data.\n",
        "'''"
      ],
      "metadata": {
        "colab": {
          "base_uri": "https://localhost:8080/",
          "height": 72
        },
        "id": "1UOCNHWUdRBY",
        "outputId": "8eac7d96-a0ca-461e-f553-75a214901893"
      },
      "execution_count": null,
      "outputs": [
        {
          "output_type": "execute_result",
          "data": {
            "text/plain": [
              "\"\\nStatistics is a branch of mathematics that deals with the collection, analysis, interpretation, and presentation of data. It's important because it helps us make informed decisions, understand patterns and trends, and draw conclusions from data. \\n\""
            ],
            "application/vnd.google.colaboratory.intrinsic+json": {
              "type": "string"
            }
          },
          "metadata": {},
          "execution_count": 1
        }
      ]
    },
    {
      "cell_type": "markdown",
      "source": [
        "2.What are the two main types of statistics?\n",
        "   - 1. Descriptive Statistics. 2. Inferential Statistics"
      ],
      "metadata": {
        "id": "zABl6_07dtx3"
      }
    },
    {
      "cell_type": "code",
      "execution_count": null,
      "metadata": {
        "colab": {
          "base_uri": "https://localhost:8080/",
          "height": 36
        },
        "id": "p84wWfEudN7R",
        "outputId": "28e6a6b0-eadc-4c82-8f3b-caeef1052082"
      },
      "outputs": [
        {
          "output_type": "execute_result",
          "data": {
            "text/plain": [
              "'\\n1. Descriptive Statistics. 2. Inferential Statistics\\n'"
            ],
            "application/vnd.google.colaboratory.intrinsic+json": {
              "type": "string"
            }
          },
          "metadata": {},
          "execution_count": 2
        }
      ],
      "source": [
        "#What are the two main types of statistics?\n",
        "'''\n",
        "1. Descriptive Statistics. 2. Inferential Statistics\n",
        "'''"
      ]
    },
    {
      "cell_type": "markdown",
      "source": [
        "3.What are descriptive statistics?\n",
        "    - Descriptive statistics can be used to describe a single variable (univariate analysis) or more than one variable (bivariate/multivariate analysis)."
      ],
      "metadata": {
        "id": "qCAf2D_NeAdm"
      }
    },
    {
      "cell_type": "code",
      "source": [
        "#What are descriptive statistics?\n",
        "'''\n",
        "Descriptive statistics can be used to describe a single variable (univariate analysis) or more than one variable (bivariate/multivariate analysis).\n",
        "'''"
      ],
      "metadata": {
        "colab": {
          "base_uri": "https://localhost:8080/",
          "height": 54
        },
        "id": "ggZ430H8d_9c",
        "outputId": "3ceb812b-a68c-4b91-b0f5-832807dba25e"
      },
      "execution_count": null,
      "outputs": [
        {
          "output_type": "execute_result",
          "data": {
            "text/plain": [
              "'\\nDescriptive statistics can be used to describe a single variable (univariate analysis) or more than one variable (bivariate/multivariate analysis).\\n'"
            ],
            "application/vnd.google.colaboratory.intrinsic+json": {
              "type": "string"
            }
          },
          "metadata": {},
          "execution_count": 3
        }
      ]
    },
    {
      "cell_type": "markdown",
      "source": [
        "4.What is inferential statistics?\n",
        "    - Inferential statistics are techniques that allow us to use these samples to make generalizations about the populations from which the samples were drawn."
      ],
      "metadata": {
        "id": "t8sOLkkQeLx9"
      }
    },
    {
      "cell_type": "code",
      "source": [
        "#What is inferential statistics?\n",
        "'''\n",
        "Inferential statistics are techniques that allow us to use these samples to make generalizations about the populations from which the samples were drawn.\n",
        "'''"
      ],
      "metadata": {
        "colab": {
          "base_uri": "https://localhost:8080/",
          "height": 54
        },
        "id": "jWik295veLo9",
        "outputId": "656194c7-2c38-42be-c6ac-48d12056fae0"
      },
      "execution_count": null,
      "outputs": [
        {
          "output_type": "execute_result",
          "data": {
            "text/plain": [
              "'\\nInferential statistics are techniques that allow us to use these samples to make generalizations about the populations from which the samples were drawn.\\n'"
            ],
            "application/vnd.google.colaboratory.intrinsic+json": {
              "type": "string"
            }
          },
          "metadata": {},
          "execution_count": 4
        }
      ]
    },
    {
      "cell_type": "markdown",
      "source": [
        "5.What is sampling in statistics?\n",
        "   - In statistics, sampling means selecting a subset (a sample) from a larger population to gain insights about the characteristics of the whole population."
      ],
      "metadata": {
        "id": "BNrNJcYWeZE0"
      }
    },
    {
      "cell_type": "code",
      "source": [
        "#What is sampling in statistics?\n",
        "'''\n",
        "In statistics, sampling means selecting a subset (a sample) from a larger population to gain insights about the characteristics of the whole population.\n",
        "'''"
      ],
      "metadata": {
        "colab": {
          "base_uri": "https://localhost:8080/",
          "height": 54
        },
        "id": "_OAia9EQeLMK",
        "outputId": "573adb4a-a69e-4067-fcd5-d17679ccb146"
      },
      "execution_count": null,
      "outputs": [
        {
          "output_type": "execute_result",
          "data": {
            "text/plain": [
              "'\\nIn statistics, sampling means selecting a subset (a sample) from a larger population to gain insights about the characteristics of the whole population.\\n'"
            ],
            "application/vnd.google.colaboratory.intrinsic+json": {
              "type": "string"
            }
          },
          "metadata": {},
          "execution_count": 5
        }
      ]
    },
    {
      "cell_type": "markdown",
      "source": [
        "6.What are the different types of sampling methods?\n",
        "   - In statistics, sampling methods are broadly categorized into probability sampling and non-probability sampling."
      ],
      "metadata": {
        "id": "XJvVilbIek7E"
      }
    },
    {
      "cell_type": "code",
      "source": [
        "#What are the different types of sampling methods?\n",
        "'''\n",
        "In statistics, sampling methods are broadly categorized into probability sampling and non-probability sampling.\n",
        "'''"
      ],
      "metadata": {
        "colab": {
          "base_uri": "https://localhost:8080/",
          "height": 36
        },
        "id": "UpPtg9sUekhS",
        "outputId": "043273cf-3156-4a20-eab0-49673acc70f8"
      },
      "execution_count": null,
      "outputs": [
        {
          "output_type": "execute_result",
          "data": {
            "text/plain": [
              "'\\nIn statistics, sampling methods are broadly categorized into probability sampling and non-probability sampling.\\n'"
            ],
            "application/vnd.google.colaboratory.intrinsic+json": {
              "type": "string"
            }
          },
          "metadata": {},
          "execution_count": 6
        }
      ]
    },
    {
      "cell_type": "markdown",
      "source": [
        "7.What is the difference between random and non-random sampling?\n",
        "    - In random sampling, each member of the population has an equal chance of being selected, aiming for a representative sample. Non-random sampling, on the other hand, involves selecting samples based on convenience, judgment, or other criteria, which may not be representative of the entire population."
      ],
      "metadata": {
        "id": "WHj5CR9KfEqE"
      }
    },
    {
      "cell_type": "code",
      "source": [
        "#What is the difference between random and non-random sampling?\n",
        "'''\n",
        "In random sampling, each member of the population has an equal chance of being selected, aiming for a representative sample. Non-random sampling, on the other hand, involves selecting samples based on convenience, judgment, or other criteria, which may not be representative of the entire population.\n",
        " '''"
      ],
      "metadata": {
        "colab": {
          "base_uri": "https://localhost:8080/",
          "height": 72
        },
        "id": "9P_4QtD9evyZ",
        "outputId": "96f8443c-07c6-46ae-ba6c-7cb97a24d100"
      },
      "execution_count": null,
      "outputs": [
        {
          "output_type": "execute_result",
          "data": {
            "text/plain": [
              "'\\nIn random sampling, each member of the population has an equal chance of being selected, aiming for a representative sample. Non-random sampling, on the other hand, involves selecting samples based on convenience, judgment, or other criteria, which may not be representative of the entire population.\\n '"
            ],
            "application/vnd.google.colaboratory.intrinsic+json": {
              "type": "string"
            }
          },
          "metadata": {},
          "execution_count": 9
        }
      ]
    },
    {
      "cell_type": "markdown",
      "source": [
        "8.Define and give examples of qualitative and quantitative data.\n",
        "   - Qualitative data examples include survey responses that allow for open-ended answers, transcripts from interviews, and notes taken from observations. Quantitative data examples consist of numerical survey responses, test scores, and data related to website traffic."
      ],
      "metadata": {
        "id": "ECBtBS-nfJ07"
      }
    },
    {
      "cell_type": "code",
      "source": [
        "#Define and give examples of qualitative and quantitative data?\n",
        "'''\n",
        "Qualitative data examples include survey responses that allow for open-ended answers, transcripts from interviews, and notes taken from observations. Quantitative data examples consist of numerical survey responses, test scores, and data related to website traffic.\n",
        "'''"
      ],
      "metadata": {
        "colab": {
          "base_uri": "https://localhost:8080/",
          "height": 72
        },
        "id": "8N3iu_Vne4J5",
        "outputId": "75a91c68-ff09-4322-e96b-de7e18db610a"
      },
      "execution_count": null,
      "outputs": [
        {
          "output_type": "execute_result",
          "data": {
            "text/plain": [
              "'\\nQualitative data examples include survey responses that allow for open-ended answers, transcripts from interviews, and notes taken from observations. Quantitative data examples consist of numerical survey responses, test scores, and data related to website traffic.\\n'"
            ],
            "application/vnd.google.colaboratory.intrinsic+json": {
              "type": "string"
            }
          },
          "metadata": {},
          "execution_count": 10
        }
      ]
    },
    {
      "cell_type": "markdown",
      "source": [
        "9.What are the different types of data in statistics?\n",
        "    - In statistics, data is broadly categorized into two main types: qualitative (or categorical) and quantitative (or numerical)."
      ],
      "metadata": {
        "id": "syphZ1YDfYg0"
      }
    },
    {
      "cell_type": "code",
      "source": [
        "#What are the different types of data in statistics?\n",
        "'''\n",
        "In statistics, data is broadly categorized into two main types: qualitative (or categorical) and quantitative (or numerical).\n",
        "'''"
      ],
      "metadata": {
        "colab": {
          "base_uri": "https://localhost:8080/",
          "height": 54
        },
        "id": "l2W-yKKifX8R",
        "outputId": "aaaac9ce-f8b2-4981-8dac-f6cf3b2aec4d"
      },
      "execution_count": null,
      "outputs": [
        {
          "output_type": "execute_result",
          "data": {
            "text/plain": [
              "'\\nIn statistics, data is broadly categorized into two main types: qualitative (or categorical) and quantitative (or numerical).\\n'"
            ],
            "application/vnd.google.colaboratory.intrinsic+json": {
              "type": "string"
            }
          },
          "metadata": {},
          "execution_count": 11
        }
      ]
    },
    {
      "cell_type": "markdown",
      "source": [
        "10.Explain nominal, ordinal, interval, and ratio levels of measurement.\n",
        "    - Nominal: This level simply classifies data into categories, without any inherent order or ranking.\n",
        "   - Ordinal: This level allows for the categorization of data into ordered categories, but the distance or difference between categories is not necessarily equal or measurable.\n",
        "   - Interval: This level provides categories, ranking, and equal intervals between values, meaning the difference between any two points on the scale is consistent.\n",
        "   - Ratio: This level encompasses all properties of the previous levels, plus a true zero point, where zero represents the absence of what is being measured."
      ],
      "metadata": {
        "id": "NGGyDZrafjdi"
      }
    },
    {
      "cell_type": "code",
      "source": [
        "#Explain nominal, ordinal, interval, and ratio levels of measurement?\n",
        "'''\n",
        "Nominal: This level simply classifies data into categories, without any inherent order or ranking.\n",
        "   - Ordinal: This level allows for the categorization of data into ordered categories, but the distance or difference between categories is not necessarily equal or measurable.\n",
        "   - Interval: This level provides categories, ranking, and equal intervals between values, meaning the difference between any two points on the scale is consistent.\n",
        "   - Ratio: This level encompasses all properties of the previous levels, plus a true zero point, where zero represents the absence of what is being measured.\n",
        "'''"
      ],
      "metadata": {
        "colab": {
          "base_uri": "https://localhost:8080/",
          "height": 126
        },
        "id": "kXsZYqe_fi5A",
        "outputId": "ba4fe537-6c64-45d9-bf9b-b54bc67203d7"
      },
      "execution_count": null,
      "outputs": [
        {
          "output_type": "execute_result",
          "data": {
            "text/plain": [
              "'\\nNominal: This level simply classifies data into categories, without any inherent order or ranking.\\n   - Ordinal: This level allows for the categorization of data into ordered categories, but the distance or difference between categories is not necessarily equal or measurable.\\n   - Interval: This level provides categories, ranking, and equal intervals between values, meaning the difference between any two points on the scale is consistent.\\n   - Ratio: This level encompasses all properties of the previous levels, plus a true zero point, where zero represents the absence of what is being measured.\\n'"
            ],
            "application/vnd.google.colaboratory.intrinsic+json": {
              "type": "string"
            }
          },
          "metadata": {},
          "execution_count": 12
        }
      ]
    },
    {
      "cell_type": "markdown",
      "source": [
        "11.What is the measure of central tendency?\n",
        "    - A measure of central tendency (also referred to as measures of centre or central location) is a summary measure that attempts to describe a whole set of data with a single value that represents the middle or centre of its distribution."
      ],
      "metadata": {
        "id": "mcRKS1PwgCDx"
      }
    },
    {
      "cell_type": "code",
      "source": [
        "#What is the measure of central tendency?\n",
        "'''\n",
        "A measure of central tendency (also referred to as measures of centre or central location) is a summary measure that attempts to describe a whole set of data with a single value that represents the middle or centre of its distribution.\n",
        "'''"
      ],
      "metadata": {
        "colab": {
          "base_uri": "https://localhost:8080/",
          "height": 72
        },
        "id": "xb1gSZWegBS_",
        "outputId": "9071ebf8-0c51-48b1-99cc-88c3ddab4ee1"
      },
      "execution_count": null,
      "outputs": [
        {
          "output_type": "execute_result",
          "data": {
            "text/plain": [
              "'\\nA measure of central tendency (also referred to as measures of centre or central location) is a summary measure that attempts to describe a whole set of data with a single value that represents the middle or centre of its distribution.\\n'"
            ],
            "application/vnd.google.colaboratory.intrinsic+json": {
              "type": "string"
            }
          },
          "metadata": {},
          "execution_count": 13
        }
      ]
    },
    {
      "cell_type": "markdown",
      "source": [
        "12.Define mean, median, and mode.\n",
        "   - In statistics, mean, median, and mode are three different types of averages used to describe the \"center\" or \"typical\" value of a dataset. The mean is the arithmetic average, found by summing all values and dividing by the number of values. The median is the middle value when the data is sorted from least to greatest. The mode is the value that appears most frequently in the dataset."
      ],
      "metadata": {
        "id": "1OfHoLkzgNkh"
      }
    },
    {
      "cell_type": "code",
      "source": [
        "#Define mean, median, and mode?\n",
        "'''\n",
        "In statistics, mean, median, and mode are three different types of averages used to describe the \"center\" or \"typical\" value of a dataset. The mean is the arithmetic average, found by summing all values and dividing by the number of values. The median is the middle value when the data is sorted from least to greatest. The mode is the value that appears most frequently in the dataset.\n",
        "'''"
      ],
      "metadata": {
        "colab": {
          "base_uri": "https://localhost:8080/",
          "height": 90
        },
        "id": "fc9V7d5PgMfe",
        "outputId": "8c616d00-c1a7-4006-d1d8-88f78f15357c"
      },
      "execution_count": null,
      "outputs": [
        {
          "output_type": "execute_result",
          "data": {
            "text/plain": [
              "'\\nIn statistics, mean, median, and mode are three different types of averages used to describe the \"center\" or \"typical\" value of a dataset. The mean is the arithmetic average, found by summing all values and dividing by the number of values. The median is the middle value when the data is sorted from least to greatest. The mode is the value that appears most frequently in the dataset. \\n'"
            ],
            "application/vnd.google.colaboratory.intrinsic+json": {
              "type": "string"
            }
          },
          "metadata": {},
          "execution_count": 14
        }
      ]
    },
    {
      "cell_type": "markdown",
      "source": [
        "13.What is the significance of the measure of central tendency?\n",
        "     - Measures of central tendency, like mean, median, and mode, are crucial in statistics as they provide a single value that represents the central or typical value of a dataset, offering a concise summary of the data's characteristics."
      ],
      "metadata": {
        "id": "jGD3AuX5gg-B"
      }
    },
    {
      "cell_type": "code",
      "source": [
        "#What is the significance of the measure of central tendency?\n",
        "'''\n",
        "Measures of central tendency, like mean, median, and mode, are crucial in statistics as they provide a single value that represents the central or typical value of a dataset, offering a concise summary of the data's characteristics.\n",
        "'''"
      ],
      "metadata": {
        "colab": {
          "base_uri": "https://localhost:8080/",
          "height": 54
        },
        "id": "J7xSkj2qgdc2",
        "outputId": "39c1537e-0c61-430b-e6ee-2d06f412d275"
      },
      "execution_count": null,
      "outputs": [
        {
          "output_type": "execute_result",
          "data": {
            "text/plain": [
              "\"\\nMeasures of central tendency, like mean, median, and mode, are crucial in statistics as they provide a single value that represents the central or typical value of a dataset, offering a concise summary of the data's characteristics.\\n\""
            ],
            "application/vnd.google.colaboratory.intrinsic+json": {
              "type": "string"
            }
          },
          "metadata": {},
          "execution_count": 15
        }
      ]
    },
    {
      "cell_type": "markdown",
      "source": [
        "14.What is variance, and how is it calculated?\n",
        "    - Variance is a statistical measure that quantifies the spread or dispersion of a set of data points around their mean. It's calculated by finding the average of the squared differences between each data point and the mean."
      ],
      "metadata": {
        "id": "3AXXFqweguSY"
      }
    },
    {
      "cell_type": "code",
      "source": [
        "#What is variance, and how is it calculated?\n",
        "'''\n",
        "Variance is a statistical measure that quantifies the spread or dispersion of a set of data points around their mean. It's calculated by finding the average of the squared differences between each data point and the mean.\n",
        "'''"
      ],
      "metadata": {
        "colab": {
          "base_uri": "https://localhost:8080/",
          "height": 54
        },
        "id": "SRnkCJBKgtEF",
        "outputId": "e8f371b7-c7c4-4969-d4b0-dcb736ac1fd8"
      },
      "execution_count": null,
      "outputs": [
        {
          "output_type": "execute_result",
          "data": {
            "text/plain": [
              "\"\\nVariance is a statistical measure that quantifies the spread or dispersion of a set of data points around their mean. It's calculated by finding the average of the squared differences between each data point and the mean. \\n\""
            ],
            "application/vnd.google.colaboratory.intrinsic+json": {
              "type": "string"
            }
          },
          "metadata": {},
          "execution_count": 16
        }
      ]
    },
    {
      "cell_type": "markdown",
      "source": [
        "15.What is standard deviation, and why is it important?\n",
        "   - Standard deviation is a statistical measure that indicates the amount of variation or dispersion in a dataset. It quantifies how much individual data points deviate from the mean (average). A high standard deviation means data points are widely spread, while a low standard deviation indicates data points are clustered closely around the mean."
      ],
      "metadata": {
        "id": "HkRAsVVDg7GA"
      }
    },
    {
      "cell_type": "code",
      "source": [
        "#Standard deviation is a statistical measure that indicates the amount of variation or dispersion in a dataset. It quantifies how much individual data points deviate from the mean (average). A high standard deviation means data points are widely spread, while a low standard deviation indicates data points are clustered closely around the mean. ?\n",
        "'''\n",
        "Standard deviation is a statistical measure that indicates the amount of variation or dispersion in a dataset. It quantifies how much individual data points deviate from the mean (average). A high standard deviation means data points are widely spread, while a low standard deviation indicates data points are clustered closely around the mean.\n",
        "'''"
      ],
      "metadata": {
        "colab": {
          "base_uri": "https://localhost:8080/",
          "height": 72
        },
        "id": "EGXDeZwQg51N",
        "outputId": "a159c1cf-d702-42dc-adb6-4eaeb03c4e54"
      },
      "execution_count": null,
      "outputs": [
        {
          "output_type": "execute_result",
          "data": {
            "text/plain": [
              "'\\nStandard deviation is a statistical measure that indicates the amount of variation or dispersion in a dataset. It quantifies how much individual data points deviate from the mean (average). A high standard deviation means data points are widely spread, while a low standard deviation indicates data points are clustered closely around the mean. \\n'"
            ],
            "application/vnd.google.colaboratory.intrinsic+json": {
              "type": "string"
            }
          },
          "metadata": {},
          "execution_count": 17
        }
      ]
    },
    {
      "cell_type": "markdown",
      "source": [
        "16.Define and explain the term range in statistics.\n",
        "    - Range - Math Definition, How to Find & ExamplesIn statistics, the range is a measure of variability that represents the spread of a dataset. It's calculated by finding the difference between the highest and lowest values in the data set."
      ],
      "metadata": {
        "id": "H1NP_bHMhJHn"
      }
    },
    {
      "cell_type": "code",
      "source": [
        "#Define and explain the term range in statistics?\n",
        "'''\n",
        "Range - Math Definition, How to Find & ExamplesIn statistics, the range is a measure of variability that represents the spread of a dataset. It's calculated by finding the difference between the highest and lowest values in the data set.\n",
        "'''"
      ],
      "metadata": {
        "colab": {
          "base_uri": "https://localhost:8080/",
          "height": 72
        },
        "id": "b2znIfnKhIMd",
        "outputId": "9c90ee59-7b71-4864-88f6-d2305e7707f4"
      },
      "execution_count": null,
      "outputs": [
        {
          "output_type": "execute_result",
          "data": {
            "text/plain": [
              "\"\\nRange - Math Definition, How to Find & ExamplesIn statistics, the range is a measure of variability that represents the spread of a dataset. It's calculated by finding the difference between the highest and lowest values in the data set. \\n\""
            ],
            "application/vnd.google.colaboratory.intrinsic+json": {
              "type": "string"
            }
          },
          "metadata": {},
          "execution_count": 18
        }
      ]
    },
    {
      "cell_type": "markdown",
      "source": [
        "17.What is the difference between variance and standard deviation?\n",
        "   - Variance is the average of the squared differences from the mean, while standard deviation is the square root of the variance."
      ],
      "metadata": {
        "id": "gecFSIUWhUYN"
      }
    },
    {
      "cell_type": "code",
      "source": [
        "#What is the difference between variance and standard deviation?\n",
        "'''\n",
        "Variance is the average of the squared differences from the mean, while standard deviation is the square root of the variance. |\n",
        "'''"
      ],
      "metadata": {
        "colab": {
          "base_uri": "https://localhost:8080/",
          "height": 54
        },
        "id": "a5CgLqfZhTws",
        "outputId": "bab1351c-6ab0-4fee-abb7-9eb0b7fdb6af"
      },
      "execution_count": null,
      "outputs": [
        {
          "output_type": "execute_result",
          "data": {
            "text/plain": [
              "'\\nVariance is the average of the squared differences from the mean, while standard deviation is the square root of the variance. |\\n'"
            ],
            "application/vnd.google.colaboratory.intrinsic+json": {
              "type": "string"
            }
          },
          "metadata": {},
          "execution_count": 19
        }
      ]
    },
    {
      "cell_type": "markdown",
      "source": [
        "18.What is skewness in a dataset?\n",
        "    - Skewness in data refers to the degree of asymmetry in a probability distribution."
      ],
      "metadata": {
        "id": "mwrqP32ghiWm"
      }
    },
    {
      "cell_type": "code",
      "source": [
        "#What is skewness in a dataset?\n",
        "'''\n",
        "Skewness in data refers to the degree of asymmetry in a probability distribution.\n",
        "'''"
      ],
      "metadata": {
        "colab": {
          "base_uri": "https://localhost:8080/",
          "height": 36
        },
        "id": "mHL3Q0RvheVr",
        "outputId": "cdcf36d8-1bec-4ef8-b655-60181ae6169c"
      },
      "execution_count": null,
      "outputs": [
        {
          "output_type": "execute_result",
          "data": {
            "text/plain": [
              "'\\nSkewness in data refers to the degree of asymmetry in a probability distribution.\\n'"
            ],
            "application/vnd.google.colaboratory.intrinsic+json": {
              "type": "string"
            }
          },
          "metadata": {},
          "execution_count": 20
        }
      ]
    },
    {
      "cell_type": "markdown",
      "source": [
        "19.What does it mean if a dataset is positively or negatively skewed?\n",
        "    - A positively skewed dataset has a longer tail on the right side, meaning it contains more extreme high values and a larger proportion of data points cluster towards the lower values.  "
      ],
      "metadata": {
        "id": "9nEyUShkh0dO"
      }
    },
    {
      "cell_type": "code",
      "source": [
        "#What does it mean if a dataset is positively or negatively skewed?\n",
        "'''\n",
        "A positively skewed dataset has a longer tail on the right side, meaning it contains more extreme high values and a larger proportion of data points cluster towards the lower values.\n",
        "'''"
      ],
      "metadata": {
        "colab": {
          "base_uri": "https://localhost:8080/",
          "height": 54
        },
        "id": "eAxAdabph0HN",
        "outputId": "b5da5f29-397e-485d-a851-36d31ed06db4"
      },
      "execution_count": null,
      "outputs": [
        {
          "output_type": "execute_result",
          "data": {
            "text/plain": [
              "'\\nA positively skewed dataset has a longer tail on the right side, meaning it contains more extreme high values and a larger proportion of data points cluster towards the lower values. \\n'"
            ],
            "application/vnd.google.colaboratory.intrinsic+json": {
              "type": "string"
            }
          },
          "metadata": {},
          "execution_count": 21
        }
      ]
    },
    {
      "cell_type": "markdown",
      "source": [
        "20.Define and explain kurtosis.\n",
        "     - Kurtosis is a descriptive statistic used to help measure how data disperse between a distribution's center and tails, with larger values indicating a data distribution may have “heavy” tails that are thickly concentrated with observations or that are long with extreme observations."
      ],
      "metadata": {
        "id": "0lw-pSpHhz0G"
      }
    },
    {
      "cell_type": "code",
      "source": [
        "#Define and explain kurtosis?\n",
        "'''\n",
        "Kurtosis is a descriptive statistic used to help measure how data disperse between a distribution's center and tails, with larger values indicating a data distribution may have “heavy” tails that are thickly concentrated with observations or that are long with extreme observations.\n",
        "'''"
      ],
      "metadata": {
        "colab": {
          "base_uri": "https://localhost:8080/",
          "height": 72
        },
        "id": "4HUf3lxUhypj",
        "outputId": "0350b9d8-9c15-4558-a2c2-6c08d18eea45"
      },
      "execution_count": null,
      "outputs": [
        {
          "output_type": "execute_result",
          "data": {
            "text/plain": [
              "\"\\nKurtosis is a descriptive statistic used to help measure how data disperse between a distribution's center and tails, with larger values indicating a data distribution may have “heavy” tails that are thickly concentrated with observations or that are long with extreme observations.\\n\""
            ],
            "application/vnd.google.colaboratory.intrinsic+json": {
              "type": "string"
            }
          },
          "metadata": {},
          "execution_count": 22
        }
      ]
    },
    {
      "cell_type": "markdown",
      "source": [
        "21.What is the purpose of covariance?\n",
        "   - Covariance is a statistical tool used to determine the relationship between the movements of two random variables."
      ],
      "metadata": {
        "id": "cygTtw8FiX61"
      }
    },
    {
      "cell_type": "code",
      "source": [
        "#What is the purpose of covariance?\n",
        "'''\n",
        "Covariance is a statistical tool used to determine the relationship between the movements of two random variables.\n",
        "'''"
      ],
      "metadata": {
        "colab": {
          "base_uri": "https://localhost:8080/",
          "height": 54
        },
        "id": "U9DTAYDfiXHi",
        "outputId": "217a3cdd-38c6-4307-9e00-c13b1a69a86a"
      },
      "execution_count": null,
      "outputs": [
        {
          "output_type": "execute_result",
          "data": {
            "text/plain": [
              "'\\nCovariance is a statistical tool used to determine the relationship between the movements of two random variables.\\n'"
            ],
            "application/vnd.google.colaboratory.intrinsic+json": {
              "type": "string"
            }
          },
          "metadata": {},
          "execution_count": 23
        }
      ]
    },
    {
      "cell_type": "markdown",
      "source": [
        "22.What does correlation measure in statistics?\n",
        "   - In statistics, correlation measures the strength and direction of the relationship between two variables."
      ],
      "metadata": {
        "id": "NfIlfUcGilmk"
      }
    },
    {
      "cell_type": "code",
      "source": [
        "#What does correlation measure in statistics?\n",
        "'''\n",
        "In statistics, correlation measures the strength and direction of the relationship between two variables.\n",
        "'''"
      ],
      "metadata": {
        "colab": {
          "base_uri": "https://localhost:8080/",
          "height": 36
        },
        "id": "fF3sapXqijKZ",
        "outputId": "c45fcaaf-2395-48b7-f253-88f206939010"
      },
      "execution_count": null,
      "outputs": [
        {
          "output_type": "execute_result",
          "data": {
            "text/plain": [
              "'\\nIn statistics, correlation measures the strength and direction of the relationship between two variables.\\n'"
            ],
            "application/vnd.google.colaboratory.intrinsic+json": {
              "type": "string"
            }
          },
          "metadata": {},
          "execution_count": 24
        }
      ]
    },
    {
      "cell_type": "markdown",
      "source": [
        "23.What is the difference between covariance and correlation?\n",
        "  - Covariance measures the direction and magnitude of the relationship, while correlation measures the strength and direction of the relationship, but also standardizes it."
      ],
      "metadata": {
        "id": "j7UOF6vJivVN"
      }
    },
    {
      "cell_type": "code",
      "source": [
        "#What is the difference between covariance and correlation?\n",
        "'''\n",
        "Covariance measures the direction and magnitude of the relationship, while correlation measures the strength and direction of the relationship, but also standardizes it.\n",
        "'''"
      ],
      "metadata": {
        "colab": {
          "base_uri": "https://localhost:8080/",
          "height": 54
        },
        "id": "BxdXpTYqitQx",
        "outputId": "3e0161de-fbb6-4973-f05e-8a69b7a7c87e"
      },
      "execution_count": null,
      "outputs": [
        {
          "output_type": "execute_result",
          "data": {
            "text/plain": [
              "'\\nCovariance measures the direction and magnitude of the relationship, while correlation measures the strength and direction of the relationship, but also standardizes it.\\n'"
            ],
            "application/vnd.google.colaboratory.intrinsic+json": {
              "type": "string"
            }
          },
          "metadata": {},
          "execution_count": 25
        }
      ]
    },
    {
      "cell_type": "markdown",
      "source": [
        "24.What are some real-world applications of statistics?\n",
        "    - Statistics has diverse real-world applications, from personal decision-making to large-scale societal and business contexts."
      ],
      "metadata": {
        "id": "ao-t1EJOi6yj"
      }
    },
    {
      "cell_type": "code",
      "source": [
        "#What are some real-world applications of statistics?\n",
        "'''\n",
        "Statistics has diverse real-world applications, from personal decision-making to large-scale societal and business contexts.\n",
        "'''"
      ],
      "metadata": {
        "colab": {
          "base_uri": "https://localhost:8080/",
          "height": 54
        },
        "id": "Un3xMXUMi6VB",
        "outputId": "ca6c802a-d292-4aed-81b3-a282d35d90f1"
      },
      "execution_count": null,
      "outputs": [
        {
          "output_type": "execute_result",
          "data": {
            "text/plain": [
              "'\\nStatistics has diverse real-world applications, from personal decision-making to large-scale societal and business contexts. \\n'"
            ],
            "application/vnd.google.colaboratory.intrinsic+json": {
              "type": "string"
            }
          },
          "metadata": {},
          "execution_count": 26
        }
      ]
    },
    {
      "cell_type": "markdown",
      "source": [
        "#Statistics Basics(Practical)"
      ],
      "metadata": {
        "id": "cYCH2l1cjHLb"
      }
    },
    {
      "cell_type": "markdown",
      "source": [
        "1.How do you calculate the mean, median, and mode of a dataset?"
      ],
      "metadata": {
        "id": "Nsr7bY33jSOD"
      }
    },
    {
      "cell_type": "code",
      "source": [
        "import statistics  #code\n",
        "def calculate_mean(data):\n",
        "    \"\"\"Calculates the mean (average) of a dataset.\"\"\"\n",
        "    return statistics.mean(data)\n",
        "def calculate_median(data):\n",
        "    \"\"\"Calculates the median (middle value) of a dataset.\"\"\"\n",
        "    return statistics.median(data)\n",
        "def calculate_mode(data):\n",
        "    \"\"\"Calculates the mode (most frequent value) of a dataset.\"\"\"\n",
        "    return statistics.mode(data)\n",
        "data = [1, 2, 2, 3, 4, 4, 5]\n",
        "mean_value = calculate_mean(data)\n",
        "median_value = calculate_median(data)\n",
        "mode_value = calculate_mode(data)\n",
        "print(f\"Mean: {mean_value}\")\n",
        "print(f\"Median: {median_value}\")\n",
        "print(f\"Mode: {mode_value}\")"
      ],
      "metadata": {
        "colab": {
          "base_uri": "https://localhost:8080/"
        },
        "id": "cs8W86lVjGA4",
        "outputId": "3f3da632-24f4-4351-8030-2b32c69f63fa"
      },
      "execution_count": null,
      "outputs": [
        {
          "output_type": "stream",
          "name": "stdout",
          "text": [
            "Mean: 3\n",
            "Median: 3\n",
            "Mode: 2\n"
          ]
        }
      ]
    },
    {
      "cell_type": "markdown",
      "source": [
        "2.Write a Python program to compute the variance and standard deviation of a dataset."
      ],
      "metadata": {
        "id": "stUhczatja57"
      }
    },
    {
      "cell_type": "code",
      "source": [
        "import math #code\n",
        "def calculate_mean(data):\n",
        "    \"\"\"Calculates the mean of a list of numbers.\"\"\"\n",
        "    return sum(data) / len(data)\n",
        "def calculate_variance(data, mean):\n",
        "  \"\"\"Calculates the variance of a list of numbers.\"\"\"\n",
        "  return sum([(x - mean) ** 2 for x in data]) / (len(data) - 1)\n",
        "def calculate_standard_deviation(variance):\n",
        "    \"\"\"Calculates the standard deviation from the variance.\"\"\"\n",
        "    return math.sqrt(variance)\n",
        "if __name__ == \"__main__\":\n",
        "    dataset = [10, 12, 23, 23, 16, 23, 21, 16]\n",
        "    mean = calculate_mean(dataset)\n",
        "    variance = calculate_variance(dataset, mean)\n",
        "    std_dev = calculate_standard_deviation(variance)\n",
        "    print(f\"Dataset: {dataset}\")\n",
        "    print(f\"Mean: {mean}\")\n",
        "    print(f\"Variance: {variance}\")\n",
        "    print(f\"Standard Deviation: {std_dev}\")"
      ],
      "metadata": {
        "colab": {
          "base_uri": "https://localhost:8080/"
        },
        "id": "nutxgkRnjaaA",
        "outputId": "abb79f69-b495-4a56-b530-3fb03984fcfb"
      },
      "execution_count": null,
      "outputs": [
        {
          "output_type": "stream",
          "name": "stdout",
          "text": [
            "Dataset: [10, 12, 23, 23, 16, 23, 21, 16]\n",
            "Mean: 18.0\n",
            "Variance: 27.428571428571427\n",
            "Standard Deviation: 5.237229365663817\n"
          ]
        }
      ]
    },
    {
      "cell_type": "markdown",
      "source": [
        "3.Create a dataset and classify it into nominal, ordinal, interval, and ratio types."
      ],
      "metadata": {
        "id": "rjIPiJs4jqbL"
      }
    },
    {
      "cell_type": "code",
      "source": [
        "import pandas as pd #code\n",
        "data = {\n",
        "    'City': ['Jaynagar', 'Kolkata', 'Delhi', 'Mumbai'],\n",
        "    'Temperature (Celsius)': [28, 30, 32, 35],\n",
        "    'Rainfall (mm)': [10, 5, 15, 20],\n",
        "    'Satisfaction Level': ['Neutral', 'Satisfied', 'Very Satisfied', 'Neutral'],\n",
        "    'Customer ID': [1, 2, 3, 4]\n",
        "}\n",
        "df = pd.DataFrame(data)\n",
        "print(df)"
      ],
      "metadata": {
        "colab": {
          "base_uri": "https://localhost:8080/"
        },
        "id": "i7vsUW4mjpp_",
        "outputId": "6bbaea43-e120-4573-f835-2f8acc3828d4"
      },
      "execution_count": null,
      "outputs": [
        {
          "output_type": "stream",
          "name": "stdout",
          "text": [
            "       City  Temperature (Celsius)  Rainfall (mm) Satisfaction Level  \\\n",
            "0  Jaynagar                     28             10            Neutral   \n",
            "1   Kolkata                     30              5          Satisfied   \n",
            "2     Delhi                     32             15     Very Satisfied   \n",
            "3    Mumbai                     35             20            Neutral   \n",
            "\n",
            "   Customer ID  \n",
            "0            1  \n",
            "1            2  \n",
            "2            3  \n",
            "3            4  \n"
          ]
        }
      ]
    },
    {
      "cell_type": "markdown",
      "source": [
        "4. Implement sampling techniques like random sampling and stratified sampling."
      ],
      "metadata": {
        "id": "xt_23SmgjyVC"
      }
    },
    {
      "cell_type": "code",
      "source": [
        "import random #code(random sampling)\n",
        "population = list(range(1, 101))\n",
        "sample_size = 20\n",
        "random_sample = random.sample(population, sample_size)\n",
        "print(\"Random Sample:\", random_sample)"
      ],
      "metadata": {
        "colab": {
          "base_uri": "https://localhost:8080/"
        },
        "id": "J72wS_ihjxgv",
        "outputId": "c20d459a-1ad0-445b-e5ca-c470b356ec7c"
      },
      "execution_count": null,
      "outputs": [
        {
          "output_type": "stream",
          "name": "stdout",
          "text": [
            "Random Sample: [71, 12, 54, 82, 18, 59, 87, 44, 63, 21, 97, 91, 42, 65, 70, 7, 48, 80, 92, 78]\n"
          ]
        }
      ]
    },
    {
      "cell_type": "code",
      "source": [
        "import random #code(sterified sampling)\n",
        "population = [\n",
        "    {\"age\": 25, \"group\": \"Young\"},\n",
        "    {\"age\": 35, \"group\": \"Middle\"},\n",
        "    {\"age\": 55, \"group\": \"Senior\"},\n",
        "    {\"age\": 22, \"group\": \"Young\"},\n",
        "    {\"age\": 45, \"group\": \"Middle\"},\n",
        "    {\"age\": 65, \"group\": \"Senior\"},\n",
        "    {\"age\": 28, \"group\": \"Young\"},\n",
        "    {\"age\": 38, \"group\": \"Middle\"},\n",
        "    {\"age\": 50, \"group\": \"Senior\"},\n",
        "    {\"age\": 20, \"group\": \"Young\"},\n",
        "    {\"age\": 40, \"group\": \"Middle\"},\n",
        "    {\"age\": 60, \"group\": \"Senior\"}\n",
        "]\n",
        "sample_size_per_group = {\n",
        "    \"Young\": 3,\n",
        "    \"Middle\": 3,\n",
        "    \"Senior\": 3\n",
        "}\n",
        "stratified_sample = {}\n",
        "for group, count in sample_size_per_group.items():\n",
        "    group_population = [item for item in population if item[\"group\"] == group]\n",
        "    group_sample = random.sample(group_population, count)\n",
        "    stratified_sample[group] = group_sample\n",
        "print(\"Stratified Sample:\", stratified_sample)"
      ],
      "metadata": {
        "colab": {
          "base_uri": "https://localhost:8080/"
        },
        "id": "KpKujC1RkBY2",
        "outputId": "85df2a69-b742-4b0e-fa5f-de3094267d21"
      },
      "execution_count": null,
      "outputs": [
        {
          "output_type": "stream",
          "name": "stdout",
          "text": [
            "Stratified Sample: {'Young': [{'age': 22, 'group': 'Young'}, {'age': 20, 'group': 'Young'}, {'age': 28, 'group': 'Young'}], 'Middle': [{'age': 35, 'group': 'Middle'}, {'age': 38, 'group': 'Middle'}, {'age': 40, 'group': 'Middle'}], 'Senior': [{'age': 55, 'group': 'Senior'}, {'age': 65, 'group': 'Senior'}, {'age': 60, 'group': 'Senior'}]}\n"
          ]
        }
      ]
    },
    {
      "cell_type": "markdown",
      "source": [
        "5.Write a Python function to calculate the range of a dataset."
      ],
      "metadata": {
        "id": "MWqCEZQpkGLa"
      }
    },
    {
      "cell_type": "code",
      "source": [
        "def calculate_range(data): #code\n",
        "  \"\"\"\n",
        "  Calculates the range of a dataset.\n",
        "\n",
        "  Args:\n",
        "    data: A list or tuple of numerical values.\n",
        "\n",
        "  Returns:\n",
        "    The range of the dataset, which is the difference between the maximum and minimum values.\n",
        "    Returns None if the input data is empty or not a list/tuple.\n",
        "  \"\"\"\n",
        "  if not isinstance(data, (list, tuple)) or not data:\n",
        "    return None\n",
        "  return max(data) - min(data)\n",
        "data = [10, 20, 30, 40, 50]\n",
        "range_value = calculate_range(data)\n",
        "print(f\"The range of the dataset is: {range_value}\")\n",
        "data = (5, 10, 15)\n",
        "range_value = calculate_range(data)\n",
        "print(f\"The range of the dataset is: {range_value}\")\n",
        "data = []\n",
        "range_value = calculate_range(data)\n",
        "print(f\"The range of the dataset is: {range_value}\")"
      ],
      "metadata": {
        "colab": {
          "base_uri": "https://localhost:8080/"
        },
        "id": "TpZeRnAhkFp-",
        "outputId": "4db37e2c-33c6-4c2c-e184-a8816aa1e2aa"
      },
      "execution_count": null,
      "outputs": [
        {
          "output_type": "stream",
          "name": "stdout",
          "text": [
            "The range of the dataset is: 40\n",
            "The range of the dataset is: 10\n",
            "The range of the dataset is: None\n"
          ]
        }
      ]
    },
    {
      "cell_type": "markdown",
      "source": [
        "6.Create a dataset and plot its histogram to visualize skewness."
      ],
      "metadata": {
        "id": "uATE6qEXkM5p"
      }
    },
    {
      "cell_type": "code",
      "source": [
        "import numpy as np #code\n",
        "import matplotlib.pyplot as plt\n",
        "import pandas as pd\n",
        "import seaborn as sns\n",
        "from scipy.stats import skew\n",
        "from scipy.stats import kurtosis\n",
        "np.random.seed(42)\n",
        "skewed_data = np.random.exponential(scale=2, size=1000)\n",
        "df = pd.DataFrame({'data': skewed_data})\n",
        "plt.figure(figsize=(8, 6))\n",
        "plt.hist(df['data'], bins=30, color='skyblue', edgecolor='black', alpha=0.7)\n",
        "plt.xlabel('Values')\n",
        "plt.ylabel('Frequency')\n",
        "plt.title('Histogram of Skewed Data')\n",
        "plt.grid(True, linestyle='--', linewidth=0.5)\n",
        "plt.show()\n",
        "print(f\"Skewness: {skew(skewed_data):.2f}\")\n",
        "print(f\"Kurtosis: {kurtosis(skewed_data):.2f}\")"
      ],
      "metadata": {
        "colab": {
          "base_uri": "https://localhost:8080/",
          "height": 600
        },
        "id": "yys-7KHWkMOu",
        "outputId": "fb970b18-7311-4d82-f349-59abc58ca94a"
      },
      "execution_count": null,
      "outputs": [
        {
          "output_type": "display_data",
          "data": {
            "text/plain": [
              "<Figure size 800x600 with 1 Axes>"
            ],
            "image/png": "[encoded data removed]"
          },
          "metadata": {}
        },
        {
          "output_type": "stream",
          "name": "stdout",
          "text": [
            "Skewness: 1.87\n",
            "Kurtosis: 5.22\n"
          ]
        }
      ]
    },
    {
      "cell_type": "markdown",
      "source": [
        "7.Calculate skewness and kurtosis of a dataset using Python libraries."
      ],
      "metadata": {
        "id": "XS1zwz3dkbOl"
      }
    },
    {
      "cell_type": "code",
      "source": [
        "import pandas as pd #code\n",
        "from scipy.stats import skew, kurtosis\n",
        "data = [2, 4, 4, 4, 5, 5, 7, 9]\n",
        "df = pd.DataFrame(data, columns=['Values'])\n",
        "skewness = df['Values'].skew()\n",
        "kurt = df['Values'].kurtosis()\n",
        "print(f\"Skewness: {skewness}\")\n",
        "print(f\"Kurtosis: {kurt}\")"
      ],
      "metadata": {
        "colab": {
          "base_uri": "https://localhost:8080/"
        },
        "id": "g3zAw1nOkaXW",
        "outputId": "e86af39b-44b0-4af4-e442-b4dfdda168ff"
      },
      "execution_count": null,
      "outputs": [
        {
          "output_type": "stream",
          "name": "stdout",
          "text": [
            "Skewness: 0.8184875533567997\n",
            "Kurtosis: 0.9406249999999998\n"
          ]
        }
      ]
    },
    {
      "cell_type": "markdown",
      "source": [
        "8.Generate a dataset and demonstrate positive and negative skewness."
      ],
      "metadata": {
        "id": "-px89SE-kkzA"
      }
    },
    {
      "cell_type": "code",
      "source": [
        "import numpy as np #code\n",
        "import matplotlib.pyplot as plt\n",
        "import scipy.stats as stats\n",
        "np.random.seed(42)\n",
        "data_pos = np.random.exponential(scale=2, size=1000)\n",
        "data_neg = np.random.normal(loc=0, scale=1, size=1000)\n",
        "data_neg_neg = np.random.normal(loc=0, scale=1, size=500) * -1\n",
        "skewness_pos = stats.skew(data_pos)\n",
        "skewness_neg = stats.skew(data_neg)\n",
        "print(\"Positive Skewness:\", skewness_pos)\n",
        "print(\"Negative Skewness:\", skewness_neg)\n",
        "fig, (ax1, ax2) = plt.subplots(1, 2, figsize=(12, 6))\n",
        "ax1.hist(data_pos, bins=50, density=True, alpha=0.6, color='g')\n",
        "ax1.set_title(\"Positively Skewed Data\")\n",
        "ax1.set_xlabel(\"Value\")\n",
        "ax1.set_ylabel(\"Density\")\n",
        "ax2.hist(data_neg, bins=50, density=True, alpha=0.6, color='r')\n",
        "ax2.set_title(\"Negatively Skewed Data\")\n",
        "ax2.set_xlabel(\"Value\")\n",
        "ax2.set_ylabel(\"Density\")\n",
        "plt.tight_layout()\n",
        "plt.show()"
      ],
      "metadata": {
        "colab": {
          "base_uri": "https://localhost:8080/",
          "height": 534
        },
        "id": "KGWVwS22kiV9",
        "outputId": "7670e1fe-4d1f-484d-9e36-ee47ffc528a1"
      },
      "execution_count": null,
      "outputs": [
        {
          "output_type": "stream",
          "name": "stdout",
          "text": [
            "Positive Skewness: 1.865034222864843\n",
            "Negative Skewness: -0.036662811518565416\n"
          ]
        },
        {
          "output_type": "display_data",
          "data": {
            "text/plain": [
              "<Figure size 1200x600 with 2 Axes>"
            ],
            "image/png": "[encoded data removed]"
          },
          "metadata": {}
        }
      ]
    },
    {
      "cell_type": "markdown",
      "source": [
        "9.Write a Python script to calculate covariance between two datasets.\n"
      ],
      "metadata": {
        "id": "3aSIs6o5kpgY"
      }
    },
    {
      "cell_type": "code",
      "source": [
        "import numpy as np #9\n",
        "def calculate_covariance(data1, data2):\n",
        "    \"\"\"\n",
        "    Calculate the covariance between two datasets.\n",
        "\n",
        "    Args:\n",
        "        data1 (list or numpy.ndarray): The first dataset.\n",
        "        data2 (list or numpy.ndarray): The second dataset.\n",
        "\n",
        "    Returns:\n",
        "        float: The covariance between the two datasets.\n",
        "    \"\"\"\n",
        "    if len(data1) != len(data2):\n",
        "        raise ValueError(\"Datasets must have the same length\")\n",
        "    data1 = np.array(data1)\n",
        "    data2 = np.array(data2)\n",
        "    mean_data1 = np.mean(data1)\n",
        "    mean_data2 = np.mean(data2)\n",
        "    covariance = np.sum((data1 - mean_data1) * (data2 - mean_data2)) / (len(data1) - 1)\n",
        "    return covariance\n",
        "if __name__ == '__main__':\n",
        "    dataset1 = [2, 4, 6, 8, 10]\n",
        "    dataset2 = [1, 3, 5, 7, 9]\n",
        "    covariance_value = calculate_covariance(dataset1, dataset2)\n",
        "    print(f\"The covariance between the two datasets is: {covariance_value}\")\n",
        "    dataset3 = [10, 8, 6, 4, 2]\n",
        "    dataset4 = [1, 2, 3, 4, 5]\n",
        "    covariance_value2 = calculate_covariance(dataset3, dataset4)\n",
        "    print(f\"The covariance between the two datasets is: {covariance_value2}\")"
      ],
      "metadata": {
        "colab": {
          "base_uri": "https://localhost:8080/"
        },
        "id": "x2tXMZrDkooV",
        "outputId": "ca9c4460-ced9-4be0-cf9d-dd75009e005b"
      },
      "execution_count": null,
      "outputs": [
        {
          "output_type": "stream",
          "name": "stdout",
          "text": [
            "The covariance between the two datasets is: 10.0\n",
            "The covariance between the two datasets is: -5.0\n"
          ]
        }
      ]
    },
    {
      "cell_type": "markdown",
      "source": [
        "10.Write a Python script to calculate the correlation coefficient between two datasets."
      ],
      "metadata": {
        "id": "oa9VPs1Zk1zI"
      }
    },
    {
      "cell_type": "code",
      "source": [
        "import numpy as np  #code\n",
        "from scipy.stats import pearsonr\n",
        "def calculate_correlation(data_x, data_y):\n",
        "  \"\"\"\n",
        "  Calculates the Pearson correlation coefficient between two datasets.\n",
        "\n",
        "  Args:\n",
        "    data_x: A list or numpy array of numerical data.\n",
        "    data_y: A list or numpy array of numerical data.\n",
        "\n",
        "  Returns:\n",
        "    The Pearson correlation coefficient (a float between -1 and 1), or None if an error occurs.\n",
        "  \"\"\"\n",
        "  try:\n",
        "    correlation, _ = pearsonr(data_x, data_y)\n",
        "    return correlation\n",
        "  except ValueError as e:\n",
        "    print(f\"Error: {e}\")\n",
        "    return None\n",
        "if __name__ == \"__main__\":\n",
        "  dataset_x = [1, 2, 3, 4, 5]\n",
        "  dataset_y = [2, 4, 1, 3, 5]\n",
        "  correlation_coefficient = calculate_correlation(dataset_x, dataset_y)\n",
        "  if correlation_coefficient is not None:\n",
        "    print(f\"The Pearson correlation coefficient is: {correlation_coefficient}\")"
      ],
      "metadata": {
        "colab": {
          "base_uri": "https://localhost:8080/"
        },
        "id": "fvRyeuCxkwV9",
        "outputId": "f6395d80-644f-45bc-aaf5-d671668981d4"
      },
      "execution_count": null,
      "outputs": [
        {
          "output_type": "stream",
          "name": "stdout",
          "text": [
            "The Pearson correlation coefficient is: 0.49999999999999994\n"
          ]
        }
      ]
    },
    {
      "cell_type": "markdown",
      "source": [
        "11.Create a scatter plot to visualize the relationship between two variables."
      ],
      "metadata": {
        "id": "bHoy-H1pk7i3"
      }
    },
    {
      "cell_type": "code",
      "source": [
        "import matplotlib.pyplot as plt  #11\n",
        "import numpy as np\n",
        "x = np.array([1, 2, 3, 4, 5])\n",
        "y = np.array([2, 4, 1, 3, 5])\n",
        "plt.scatter(x, y, marker='o', color='blue')\n",
        "plt.xlabel(\"X-axis Label\")\n",
        "plt.ylabel(\"Y-axis Label\")\n",
        "plt.title(\"Scatter Plot\")\n",
        "plt.show()"
      ],
      "metadata": {
        "colab": {
          "base_uri": "https://localhost:8080/",
          "height": 472
        },
        "id": "FI3prGx5k6u9",
        "outputId": "05a27939-0b4b-427d-a883-6a1728e1af12"
      },
      "execution_count": null,
      "outputs": [
        {
          "output_type": "display_data",
          "data": {
            "text/plain": [
              "<Figure size 640x480 with 1 Axes>"
            ],
            "image/png": "[encoded data removed]"
          },
          "metadata": {}
        }
      ]
    },
    {
      "cell_type": "markdown",
      "source": [
        "12. Implement and compare simple random sampling and systematic sampling."
      ],
      "metadata": {
        "id": "aTyP7AfrlAYH"
      }
    },
    {
      "cell_type": "code",
      "source": [
        "import random   #12\n",
        "population = list(range(1, 101))\n",
        "def simple_random_sampling(population, sample_size):\n",
        "    \"\"\"\n",
        "    Performs simple random sampling.\n",
        "\n",
        "    Args:\n",
        "        population: A list or iterable representing the entire population.\n",
        "        sample_size: The desired size of the sample.\n",
        "\n",
        "    Returns:\n",
        "        A list containing the sampled elements.\n",
        "    \"\"\"\n",
        "    return random.sample(population, sample_size)\n",
        "\n",
        "sample_size_simple = 20\n",
        "simple_sample = simple_random_sampling(population, sample_size_simple)\n",
        "print(\"Simple Random Sample:\", simple_sample)\n",
        "def systematic_sampling(population, sample_size, interval):\n",
        "    \"\"\"\n",
        "    Performs systematic sampling.\n",
        "\n",
        "    Args:\n",
        "        population: A list or iterable representing the entire population.\n",
        "        sample_size: The desired size of the sample.\n",
        "        interval: The sampling interval (every 'interval'th element).\n",
        "\n",
        "    Returns:\n",
        "        A list containing the sampled elements.\n",
        "    \"\"\"\n",
        "    if interval <= 0:\n",
        "        raise ValueError(\"Interval must be a positive integer.\")\n",
        "    if interval > len(population) or sample_size > len(population):\n",
        "        raise ValueError(\"Interval cannot exceed population size, and sample size cannot exceed population size.\")\n",
        "    start_index = random.randint(0, interval - 1)\n",
        "    sample = []\n",
        "    index = start_index\n",
        "    while len(sample) < sample_size:\n",
        "        sample.append(population[index])\n",
        "        index += interval\n",
        "        if index >= len(population):\n",
        "            index -= len(population)\n",
        "    return sample\n",
        "sample_size_systematic = 20\n",
        "interval = len(population) // sample_size_systematic\n",
        "systematic_sample = systematic_sampling(population, sample_size_systematic, interval)\n",
        "print(\"Systematic Sample:\", systematic_sample)"
      ],
      "metadata": {
        "colab": {
          "base_uri": "https://localhost:8080/"
        },
        "id": "JmBqVGR6k_u0",
        "outputId": "d54a49a2-27e2-48ae-f7a9-8517a21b1a6f"
      },
      "execution_count": null,
      "outputs": [
        {
          "output_type": "stream",
          "name": "stdout",
          "text": [
            "Simple Random Sample: [69, 92, 72, 91, 51, 9, 10, 45, 47, 98, 70, 32, 36, 56, 61, 86, 44, 41, 54, 42]\n",
            "Systematic Sample: [3, 8, 13, 18, 23, 28, 33, 38, 43, 48, 53, 58, 63, 68, 73, 78, 83, 88, 93, 98]\n"
          ]
        }
      ]
    },
    {
      "cell_type": "markdown",
      "source": [
        "13.Calculate the mean, median, and mode of grouped data."
      ],
      "metadata": {
        "id": "a1PJvNjslHcv"
      }
    },
    {
      "cell_type": "code",
      "source": [
        "def calculate_mean_grouped_data(class_intervals, frequencies):    #code(mean)\n",
        "    \"\"\"\n",
        "    Calculates the mean of grouped data using the direct method.\n",
        "\n",
        "    Args:\n",
        "        class_intervals: A list of tuples, where each tuple represents a class interval (e.g., [(10, 20), (20, 30)]).\n",
        "        frequencies: A list of frequencies corresponding to each class interval.\n",
        "\n",
        "    Returns:\n",
        "        The calculated mean of the grouped data.\n",
        "    \"\"\"\n",
        "\n",
        "    total_frequency = sum(frequencies)\n",
        "    sum_of_products = 0\n",
        "    for i in range(len(class_intervals)):\n",
        "        lower_limit, upper_limit = class_intervals[i]\n",
        "        midpoint = (lower_limit + upper_limit) / 2\n",
        "        sum_of_products += midpoint * frequencies[i]\n",
        "\n",
        "    mean = sum_of_products / total_frequency\n",
        "    return mean\n",
        "class_intervals = [(10, 20), (20, 30), (30, 40), (40, 50)]\n",
        "frequencies = [10, 15, 5, 20]\n",
        "mean_value = calculate_mean_grouped_data(class_intervals, frequencies)\n",
        "print(\"Mean:\", mean_value)"
      ],
      "metadata": {
        "colab": {
          "base_uri": "https://localhost:8080/"
        },
        "id": "2_wWuTU7lGCs",
        "outputId": "1fd803a9-ab55-4515-b3c2-2a64c72144fb"
      },
      "execution_count": null,
      "outputs": [
        {
          "output_type": "stream",
          "name": "stdout",
          "text": [
            "Mean: 32.0\n"
          ]
        }
      ]
    },
    {
      "cell_type": "code",
      "source": [
        "import numpy as np #median\n",
        "import pandas as pd\n",
        "data = {'Class': [0, 10, 20, 30, 40],\n",
        "        'Frequency': [10, 20, 30, 15, 5]}\n",
        "df = pd.DataFrame(data)\n",
        "df['Cumulative Frequency'] = df['Frequency'].cumsum()\n",
        "n = df['Frequency'].sum()\n",
        "median_class_index = np.where(df['Cumulative Frequency'] >= n / 2)[0][0]\n",
        "median_class = df['Class'].iloc[median_class_index]\n",
        "l = df['Class'].iloc[median_class_index] - 10\n",
        "cf = df['Cumulative Frequency'].iloc[median_class_index - 1] if median_class_index > 0 else 0\n",
        "f = df['Frequency'].iloc[median_class_index]\n",
        "h = 10\n",
        "median = l + ((n / 2 - cf) / f) * h\n",
        "print(f\"The median of the grouped data is: {median}\")"
      ],
      "metadata": {
        "colab": {
          "base_uri": "https://localhost:8080/"
        },
        "id": "XXzF2LWglS9E",
        "outputId": "e71ba6b3-9217-48be-a34b-68585a30d2f3"
      },
      "execution_count": null,
      "outputs": [
        {
          "output_type": "stream",
          "name": "stdout",
          "text": [
            "The median of the grouped data is: 13.333333333333332\n"
          ]
        }
      ]
    },
    {
      "cell_type": "code",
      "source": [
        "def calculate_mode_grouped_data(class_intervals, frequencies): #mode\n",
        "    \"\"\"\n",
        "    Calculates the mode for grouped data.\n",
        "\n",
        "    Args:\n",
        "        class_intervals: A list of lists, where each inner list contains the\n",
        "                       lower and upper limits of a class interval (e.g., [[10, 20], [20, 30]]).\n",
        "        frequencies: A list of integers representing the frequency of each class interval.\n",
        "\n",
        "    Returns:\n",
        "        The mode of the grouped data, or None if input is invalid.\n",
        "    \"\"\"\n",
        "\n",
        "\n",
        "    if len(class_intervals) != len(frequencies):\n",
        "        print(\"Error: Number of class intervals and frequencies must be the same.\")\n",
        "        return None\n",
        "    if not all(isinstance(interval, list) and len(interval) == 2 and isinstance(freq, int) for interval, freq in zip(class_intervals, frequencies)):\n",
        "        print(\"Error: Invalid input format.\")\n",
        "        return None\n",
        "    if not all(interval[1] >= interval[0] for interval in class_intervals):\n",
        "        print(\"Error: Class intervals must be in ascending order.\")\n",
        "        return None\n",
        "    if not all(freq >= 0 for freq in frequencies):\n",
        "        print(\"Error: Frequencies must be non-negative.\")\n",
        "        return None\n",
        "\n",
        "\n",
        "    modal_class_index = frequencies.index(max(frequencies))\n",
        "\n",
        "\n",
        "    l = class_intervals[modal_class_index][0]\n",
        "    h = class_intervals[modal_class_index][1] - class_intervals[modal_class_index][0]\n",
        "    f1 = frequencies[modal_class_index]\n",
        "    f0 = frequencies[modal_class_index - 1] if modal_class_index > 0 else 0\n",
        "    f2 = frequencies[modal_class_index + 1] if modal_class_index < len(frequencies) - 1 else 0\n",
        "\n",
        "\n",
        "    mode = l + ((f1 - f0) / (2 * f1 - f0 - f2)) * h\n",
        "\n",
        "    return mode\n",
        "\n",
        "class_intervals = [[0, 10], [10, 20], [20, 30], [30, 40], [40, 50]]\n",
        "frequencies = [5, 15, 25, 10, 5]\n",
        "\n",
        "mode_result = calculate_mode_grouped_data(class_intervals, frequencies)\n",
        "\n",
        "if mode_result is not None:\n",
        "    print(f\"The mode of the grouped data is: {mode_result}\")"
      ],
      "metadata": {
        "colab": {
          "base_uri": "https://localhost:8080/"
        },
        "id": "DmwpBUdelskr",
        "outputId": "1aead4c5-a268-4284-cc66-dd2a9cb991c7"
      },
      "execution_count": null,
      "outputs": [
        {
          "output_type": "stream",
          "name": "stdout",
          "text": [
            "The mode of the grouped data is: 24.0\n"
          ]
        }
      ]
    },
    {
      "cell_type": "markdown",
      "source": [
        "14.Simulate data using Python and calculate its central tendency and dispersion."
      ],
      "metadata": {
        "id": "9wdPbArql1lW"
      }
    },
    {
      "cell_type": "code",
      "source": [
        "import numpy as np #code\n",
        "from scipy import stats\n",
        "\n",
        "np.random.seed(0)\n",
        "data = np.random.normal(loc=0, scale=1, size=1000)\n",
        "\n",
        "mean = np.mean(data)\n",
        "median = np.median(data)\n",
        "mode = stats.mode(data)[0]\n",
        "\n",
        "print(f\"Mean: {mean}\")\n",
        "print(f\"Median: {median}\")\n",
        "print(f\"Mode: {mode}\")\n",
        "\n",
        "\n",
        "range_val = np.max(data) - np.min(data)\n",
        "variance = np.var(data)\n",
        "std_dev = np.std(data)\n",
        "q75, q25 = np.percentile(data, [75, 25])\n",
        "iqr = q75 - q25\n",
        "\n",
        "\n",
        "print(f\"Range: {range_val}\")\n",
        "print(f\"Variance: {variance}\")\n",
        "print(f\"Standard Deviation: {std_dev}\")\n",
        "print(f\"Interquartile Range: {iqr}\")"
      ],
      "metadata": {
        "colab": {
          "base_uri": "https://localhost:8080/"
        },
        "id": "Qpcgqtaxl6Uy",
        "outputId": "f8c79a75-9c9c-4cf5-d06c-1ec09f240a6d"
      },
      "execution_count": null,
      "outputs": [
        {
          "output_type": "stream",
          "name": "stdout",
          "text": [
            "Mean: -0.045256707490195384\n",
            "Median: -0.058028034799627745\n",
            "Mode: -3.0461430547999266\n",
            "Range: 5.805498168821509\n",
            "Variance: 0.9742344563121542\n",
            "Standard Deviation: 0.9870331586690257\n",
            "Interquartile Range: 1.305370661248269\n"
          ]
        }
      ]
    },
    {
      "cell_type": "markdown",
      "source": [
        "15.Use NumPy or pandas to summarize a dataset’s descriptive statistics."
      ],
      "metadata": {
        "id": "PX93heIVmBlN"
      }
    },
    {
      "cell_type": "code",
      "source": [
        "import pandas as pd #code\n",
        "import numpy as np\n",
        "data = {\n",
        "    'age': [25, 30, 35, 40, 45, 50, 55, 60],\n",
        "    'income': [50000, 60000, 70000, 80000, 90000, 100000, 110000, 120000],\n",
        "    'gender': ['M', 'F', 'M', 'F', 'M', 'F', 'M', 'F']\n",
        "}\n",
        "df = pd.DataFrame(data)\n",
        "summary_stats = df.describe(include='all')\n",
        "print(summary_stats)"
      ],
      "metadata": {
        "colab": {
          "base_uri": "https://localhost:8080/"
        },
        "id": "gp0frV6vmAxi",
        "outputId": "f28c8f60-041e-409c-d947-dc00467ad103"
      },
      "execution_count": null,
      "outputs": [
        {
          "output_type": "stream",
          "name": "stdout",
          "text": [
            "              age         income gender\n",
            "count    8.000000       8.000000      8\n",
            "unique        NaN            NaN      2\n",
            "top           NaN            NaN      M\n",
            "freq          NaN            NaN      4\n",
            "mean    42.500000   85000.000000    NaN\n",
            "std     12.247449   24494.897428    NaN\n",
            "min     25.000000   50000.000000    NaN\n",
            "25%     33.750000   67500.000000    NaN\n",
            "50%     42.500000   85000.000000    NaN\n",
            "75%     51.250000  102500.000000    NaN\n",
            "max     60.000000  120000.000000    NaN\n"
          ]
        }
      ]
    },
    {
      "cell_type": "markdown",
      "source": [
        "16.Plot a boxplot to understand the spread and identify outliers."
      ],
      "metadata": {
        "id": "uijnDE7Ymu8r"
      }
    },
    {
      "cell_type": "code",
      "source": [
        "import matplotlib.pyplot as plt #code\n",
        "import numpy as np\n",
        "data = np.random.normal(loc=50, scale=10, size=100)\n",
        "data = np.append(data, [100, 100, 200, 5])\n",
        "plt.figure(figsize=(8, 6))\n",
        "plt.boxplot(data, vert=True, patch_artist=True,\n",
        "           boxprops=dict(facecolor='lightblue', edgecolor='black', linewidth=2),\n",
        "           whiskerprops=dict(color='gray', linewidth=1.5),\n",
        "           capprops=dict(color='gray', linewidth=1.5),\n",
        "           medianprops=dict(color='red', linewidth=2),\n",
        "           flierprops=dict(marker='o', markerfacecolor='red', markersize=8, linestyle='none'))\n",
        "plt.title('Box Plot of Data')\n",
        "plt.ylabel('Value')\n",
        "plt.show()"
      ],
      "metadata": {
        "colab": {
          "base_uri": "https://localhost:8080/",
          "height": 545
        },
        "id": "8yc_6J-EmGry",
        "outputId": "e768cd86-0e25-4185-f1f0-1cef3272f8c4"
      },
      "execution_count": null,
      "outputs": [
        {
          "output_type": "display_data",
          "data": {
            "text/plain": [
              "<Figure size 800x600 with 1 Axes>"
            ],
            "image/png": "[encoded data removed]"
          },
          "metadata": {}
        }
      ]
    },
    {
      "cell_type": "markdown",
      "source": [
        "17.Calculate the interquartile range (IQR) of a dataset."
      ],
      "metadata": {
        "id": "i1X1Y6ZJm3XE"
      }
    },
    {
      "cell_type": "code",
      "source": [
        "import numpy as np #code\n",
        "data = [13, 21, 21, 40, 42, 48, 55, 72]\n",
        "Q1 = np.percentile(data, 25)\n",
        "Q3 = np.percentile(data, 75)\n",
        "IQR = Q3 - Q1\n",
        "print(f\"The interquartile range (IQR) is: {IQR}\")"
      ],
      "metadata": {
        "colab": {
          "base_uri": "https://localhost:8080/"
        },
        "id": "tK-T-1mEm00R",
        "outputId": "718d3f7c-be1c-4385-bd48-186af8887277"
      },
      "execution_count": null,
      "outputs": [
        {
          "output_type": "stream",
          "name": "stdout",
          "text": [
            "The interquartile range (IQR) is: 28.75\n"
          ]
        }
      ]
    },
    {
      "cell_type": "markdown",
      "source": [
        "18.Implement Z-score normalization and explain its significance."
      ],
      "metadata": {
        "id": "xF6HMxb2m81b"
      }
    },
    {
      "cell_type": "code",
      "source": [
        "import numpy as np #code\n",
        "data = np.array([10, 20, 30, 40, 50, 60, 70, 80, 90, 100])\n",
        "mean = np.mean(data)\n",
        "std_dev = np.std(data)\n",
        "z_scores = (data - mean) / std_dev\n",
        "print(\"Original Data:\", data)\n",
        "print(\"Mean:\", mean)\n",
        "print(\"Standard Deviation:\", std_dev)\n",
        "print(\"Z-scores:\", z_scores)"
      ],
      "metadata": {
        "colab": {
          "base_uri": "https://localhost:8080/"
        },
        "id": "tjfGnaX8m6RI",
        "outputId": "e936ef58-d3fa-48f6-d1b0-5e256c63080c"
      },
      "execution_count": null,
      "outputs": [
        {
          "output_type": "stream",
          "name": "stdout",
          "text": [
            "Original Data: [ 10  20  30  40  50  60  70  80  90 100]\n",
            "Mean: 55.0\n",
            "Standard Deviation: 28.722813232690143\n",
            "Z-scores: [-1.5666989  -1.21854359 -0.87038828 -0.52223297 -0.17407766  0.17407766\n",
            "  0.52223297  0.87038828  1.21854359  1.5666989 ]\n"
          ]
        }
      ]
    },
    {
      "cell_type": "markdown",
      "source": [
        "19.Compare two datasets using their standard deviations."
      ],
      "metadata": {
        "id": "mvZf6CtLnGPi"
      }
    },
    {
      "cell_type": "code",
      "source": [
        "import numpy as np #code\n",
        "data1 = [1, 2, 3, 4, 5]\n",
        "data2 = [1, 1, 1, 1, 10]\n",
        "std_dev_1 = np.std(data1)\n",
        "std_dev_2 = np.std(data2)\n",
        "print(f\"Standard Deviation of data1: {std_dev_1}\")\n",
        "print(f\"Standard Deviation of data2: {std_dev_2}\")\n",
        "if std_dev_1 > std_dev_2:\n",
        "  print(\"data1 has a larger standard deviation (more spread out)\")\n",
        "elif std_dev_1 < std_dev_2:\n",
        "  print(\"data2 has a larger standard deviation (more spread out)\")\n",
        "else:\n",
        "  print(\"The datasets have the same standard deviation (same spread)\")"
      ],
      "metadata": {
        "colab": {
          "base_uri": "https://localhost:8080/"
        },
        "id": "Gdi6ljkznD1Q",
        "outputId": "a8710bf3-4cd0-4fe2-b0b2-72885e79b97f"
      },
      "execution_count": null,
      "outputs": [
        {
          "output_type": "stream",
          "name": "stdout",
          "text": [
            "Standard Deviation of data1: 1.4142135623730951\n",
            "Standard Deviation of data2: 3.6\n",
            "data2 has a larger standard deviation (more spread out)\n"
          ]
        }
      ]
    },
    {
      "cell_type": "markdown",
      "source": [
        "20. Write a Python program to visualize covariance using a heatmap."
      ],
      "metadata": {
        "id": "mPqM87pPnKnL"
      }
    },
    {
      "cell_type": "code",
      "source": [
        "import numpy as np #code\n",
        "import matplotlib.pyplot as plt\n",
        "import seaborn as sns\n",
        "import pandas as pd\n",
        "np.random.seed(42)\n",
        "data = pd.DataFrame(np.random.rand(10, 4), columns=['A', 'B', 'C', 'D'])\n",
        "covariance_matrix = data.cov()\n",
        "plt.figure(figsize=(8, 6))\n",
        "sns.heatmap(covariance_matrix, annot=True, cmap='coolwarm', fmt=\".2f\", linewidths=.5)\n",
        "plt.title('Covariance Heatmap')\n",
        "plt.show()"
      ],
      "metadata": {
        "colab": {
          "base_uri": "https://localhost:8080/",
          "height": 545
        },
        "id": "j6pE-C_onJ0o",
        "outputId": "23210729-ee87-4376-cb76-2fd2c5c62708"
      },
      "execution_count": null,
      "outputs": [
        {
          "output_type": "display_data",
          "data": {
            "text/plain": [
              "<Figure size 800x600 with 2 Axes>"
            ],
            "image/png": "[encoded data removed]"
          },
          "metadata": {}
        }
      ]
    },
    {
      "cell_type": "markdown",
      "source": [
        "21.Use seaborn to create a correlation matrix for a dataset."
      ],
      "metadata": {
        "id": "B6eVeqGCnT4r"
      }
    },
    {
      "cell_type": "code",
      "source": [
        "from string import ascii_letters #code\n",
        "import numpy as np\n",
        "import pandas as pd\n",
        "import seaborn as sns\n",
        "import matplotlib.pyplot as plt\n",
        "sns.set_theme(style=\"white\")\n",
        "rs = np.random.RandomState(33)\n",
        "d = pd.DataFrame(data=rs.normal(size=(100, 26)),\n",
        "                 columns=list(ascii_letters[26:]))\n",
        "corr = d.corr()\n",
        "mask = np.triu(np.ones_like(corr, dtype=bool))\n",
        "f, ax = plt.subplots(figsize=(11, 9))\n",
        "cmap = sns.diverging_palette(230, 20, as_cmap=True)\n",
        "sns.heatmap(corr, mask=mask, cmap=cmap, vmax=.3, center=0,\n",
        "            square=True, linewidths=.5, cbar_kws={\"shrink\": .5})"
      ],
      "metadata": {
        "colab": {
          "base_uri": "https://localhost:8080/",
          "height": 765
        },
        "id": "eS78T2mWnQ84",
        "outputId": "2733bc65-5f69-45f6-8d92-6924b5317715"
      },
      "execution_count": null,
      "outputs": [
        {
          "output_type": "execute_result",
          "data": {
            "text/plain": [
              "<Axes: >"
            ]
          },
          "metadata": {},
          "execution_count": 57
        },
        {
          "output_type": "display_data",
          "data": {
            "text/plain": [
              "<Figure size 1100x900 with 2 Axes>"
            ],
            "image/png": "[encoded data removed]"
          },
          "metadata": {}
        }
      ]
    },
    {
      "cell_type": "markdown",
      "source": [
        "22.Generate a dataset and implement both variance and standard deviation computations."
      ],
      "metadata": {
        "id": "SXRVr_g4nZ9j"
      }
    },
    {
      "cell_type": "code",
      "source": [
        "import numpy as np #code\n",
        "data = np.array([10, 12, 15, 11, 13, 14, 16, 12, 17, 18])\n",
        "mean = np.mean(data)\n",
        "variance = np.var(data, ddof=1)\n",
        "std_dev = np.std(data, ddof=1)\n",
        "print(\"Data:\", data)\n",
        "print(\"Mean:\", mean)\n",
        "print(\"Variance:\", variance)\n",
        "print(\"Standard Deviation:\", std_dev)"
      ],
      "metadata": {
        "colab": {
          "base_uri": "https://localhost:8080/"
        },
        "id": "vqDR59u2nXzn",
        "outputId": "7cbfc5a2-211b-4cf7-fac0-004b66742ce5"
      },
      "execution_count": null,
      "outputs": [
        {
          "output_type": "stream",
          "name": "stdout",
          "text": [
            "Data: [10 12 15 11 13 14 16 12 17 18]\n",
            "Mean: 13.8\n",
            "Variance: 7.066666666666666\n",
            "Standard Deviation: 2.6583202716502514\n"
          ]
        }
      ]
    },
    {
      "cell_type": "markdown",
      "source": [
        "23.Visualize skewness and kurtosis using Python libraries like matplotlib or seaborn."
      ],
      "metadata": {
        "id": "58va9vxTnenS"
      }
    },
    {
      "cell_type": "code",
      "source": [
        "import numpy as np #code\n",
        "import matplotlib.pyplot as plt\n",
        "import seaborn as sns\n",
        "from scipy.stats import skew, kurtosis\n",
        "data = np.random.normal(0, 1, 1000)\n",
        "data_skewed = np.append(data, np.random.normal(5, 2, 200))\n",
        "skewness = skew(data_skewed)\n",
        "kurt = kurtosis(data_skewed)\n",
        "plt.figure(figsize=(10, 6))\n",
        "sns.histplot(data_skewed, kde=True)\n",
        "plt.title(f'Distribution with Skewness: {skewness:.2f} and Kurtosis: {kurt:.2f}')\n",
        "plt.xlabel('Value')\n",
        "plt.ylabel('Frequency')\n",
        "plt.text(0.97, 0.91, f'Skewness: {skewness:.2f}', transform=plt.gca().transAxes, horizontalalignment='right')\n",
        "plt.text(0.97, 0.86, f'Kurtosis: {kurt:.2f}', transform=plt.gca().transAxes, horizontalalignment='right')\n",
        "plt.show()"
      ],
      "metadata": {
        "colab": {
          "base_uri": "https://localhost:8080/",
          "height": 573
        },
        "id": "LBtq6HT0neCv",
        "outputId": "fd22c392-abd2-4d67-b0bd-d7a6dbfac220"
      },
      "execution_count": null,
      "outputs": [
        {
          "output_type": "display_data",
          "data": {
            "text/plain": [
              "<Figure size 1000x600 with 1 Axes>"
            ],
            "image/png": "[encoded data removed]"
          },
          "metadata": {}
        }
      ]
    },
    {
      "cell_type": "markdown",
      "source": [
        "24. Implement the Pearson and Spearman correlation coefficients for a dataset."
      ],
      "metadata": {
        "id": "Nzxldn-Xnm56"
      }
    },
    {
      "cell_type": "code",
      "source": [
        "import numpy as np #code\n",
        "import pandas as pd\n",
        "def pearson_correlation(x, y):\n",
        "  \"\"\"Calculates the Pearson correlation coefficient between two lists.\n",
        "\n",
        "  Args:\n",
        "    x: A list of numerical values.\n",
        "    y: A list of numerical values of the same length as x.\n",
        "\n",
        "  Returns:\n",
        "    The Pearson correlation coefficient, a value between -1 and 1.\n",
        "  \"\"\"\n",
        "  n = len(x)\n",
        "  if n != len(y):\n",
        "    raise ValueError(\"Input lists must have the same length.\")\n",
        "  mean_x = np.mean(x)\n",
        "  mean_y = np.mean(y)\n",
        "  numerator = sum([(x[i] - mean_x) * (y[i] - mean_y) for i in range(n)])\n",
        "  denominator = np.sqrt(sum([(x[i] - mean_x)**2 for i in range(n)])) * np.sqrt(sum([(y[i] - mean_y)**2 for i in range(n)]))\n",
        "  if denominator == 0:\n",
        "    return 0.0\n",
        "  return numerator / denominator\n",
        "def spearman_correlation(x, y):\n",
        "  \"\"\"Calculates the Spearman correlation coefficient between two lists.\n",
        "\n",
        "  Args:\n",
        "    x: A list of numerical values.\n",
        "    y: A list of numerical values of the same length as x.\n",
        "\n",
        "  Returns:\n",
        "    The Spearman correlation coefficient, a value between -1 and 1.\n",
        "  \"\"\"\n",
        "  n = len(x)\n",
        "  if n != len(y):\n",
        "    raise ValueError(\"Input lists must have the same length.\")\n",
        "  ranks_x = pd.Series(x).rank(method='average').tolist()\n",
        "  ranks_y = pd.Series(y).rank(method='average').tolist()\n",
        "  d = [ranks_x[i] - ranks_y[i] for i in range(n)]\n",
        "  numerator = n * sum(d[i]**2 for i in range(n))\n",
        "  denominator = (n * (n**2 - 1))\n",
        "  if denominator == 0:\n",
        "      return 0.0\n",
        "  return 1 - (6 * numerator) / denominator\n",
        "pearson_corr = pearson_correlation(x, y)\n",
        "print(f\"Pearson Correlation: {pearson_corr}\")\n",
        "spearman_corr = spearman_correlation(x, y)\n",
        "print(f\"Spearman Correlation: {spearman_corr}\")\n",
        "def pearson_corr_pandas(x, y):\n",
        "    return np.corrcoef(x, y)[0, 1]\n",
        "def spearman_corr_pandas(x, y):\n",
        "    df = pd.DataFrame({'x': x, 'y': y})\n",
        "    return df.corr(method='spearman')['x']['y']\n",
        "pearson_pandas = pearson_corr_pandas(x,y)\n",
        "spearman_pandas = spearman_corr_pandas(x,y)\n",
        "print(f\"Pearson Correlation (pandas): {pearson_pandas}\")\n",
        "print(f\"Spearman Correlation (pandas): {spearman_pandas}\")"
      ],
      "metadata": {
        "colab": {
          "base_uri": "https://localhost:8080/"
        },
        "id": "A-4zLwX7nlHv",
        "outputId": "8356c432-f20b-4c0d-cb68-0807e658b226"
      },
      "execution_count": null,
      "outputs": [
        {
          "output_type": "stream",
          "name": "stdout",
          "text": [
            "Pearson Correlation: 0.4999999999999999\n",
            "Spearman Correlation: -1.5\n",
            "Pearson Correlation (pandas): 0.49999999999999994\n",
            "Spearman Correlation (pandas): 0.5\n"
          ]
        }
      ]
    }
  ]
}